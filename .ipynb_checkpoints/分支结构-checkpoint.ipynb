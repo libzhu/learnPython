{
 "cells": [
  {
   "cell_type": "markdown",
   "metadata": {},
   "source": [
    "# 程序结构\n",
    "- 程序三种结构\n",
    "    - 顺序\n",
    "    - 循环\n",
    "    - 分支"
   ]
  },
  {
   "cell_type": "markdown",
   "metadata": {},
   "source": [
    "# 分支结构\n",
    "- 分支结构的基本语法\n",
    "        if 条件表达式：\n",
    "            语句1\n",
    "            语句2\n",
    "            。。。\n",
    "- 条件表达式就是计算结果必须是布尔值的表达式\n",
    "- 表达式后面的冒号不能少\n",
    "- 注意if后面出现的语句，如果属于if语句，则必须统一等级缩进\n",
    "- 条件表达式结果为True 则执行后面的缩进语句"
   ]
  },
  {
   "cell_type": "code",
   "execution_count": 5,
   "metadata": {},
   "outputs": [
    {
     "name": "stdout",
     "output_type": "stream",
     "text": [
      "我就发财了\n",
      "迎娶白富美\n"
     ]
    }
   ],
   "source": [
    "# if 语句联系\n",
    "# 如果我们都买了习题课，我就发财了\n",
    "a = \"都卖了习题课\"\n",
    "# 字符串的真假：\n",
    "# 只有空字符串为False， 其余全部为True\n",
    "# a = \"\"\n",
    "if a:\n",
    "    print('我就发财了')\n",
    "    print('迎娶白富美')\n",
    "else:\n",
    "    print(\"不要做梦了\")"
   ]
  },
  {
   "cell_type": "code",
   "execution_count": 6,
   "metadata": {},
   "outputs": [
    {
     "name": "stdout",
     "output_type": "stream",
     "text": [
      "喝酒去\n",
      "下次我请你\n"
     ]
    }
   ],
   "source": [
    "# if 语句案例\n",
    "a = 19\n",
    "if a > 18:\n",
    "    print(\"喝酒去\")\n",
    "print(\"下次我请你\")"
   ]
  },
  {
   "cell_type": "code",
   "execution_count": 1,
   "metadata": {},
   "outputs": [
    {
     "name": "stdout",
     "output_type": "stream",
     "text": [
      "请输入您的性别jjj\n",
      "jjj\n",
      "你是男生吗\n",
      "一边玩去\n"
     ]
    }
   ],
   "source": [
    "# input 的作用\n",
    "# 1、在屏幕上输出括号内的字符串\n",
    "# 2、接受用户的内容并返回到程序\n",
    "# 3、input返回的类型一定是字符串类型\n",
    "\n",
    "gender = input(\"请输入您的性别\")\n",
    "print(gender)\n",
    "\n",
    "if gender == \"man\":\n",
    "    print(\"走，喝酒抽烟去\")\n",
    "    print(\"一起完全啊\")\n",
    "else:\n",
    "    print(\"你是男生吗\")\n",
    "    print(\"一边玩去\")"
   ]
  },
  {
   "cell_type": "code",
   "execution_count": 8,
   "metadata": {},
   "outputs": [
    {
     "name": "stdout",
     "output_type": "stream",
     "text": [
      "请输入你的分数99\n",
      "99\n",
      "优秀\n"
     ]
    }
   ],
   "source": [
    "scores = input(\"请输入你的分数\")\n",
    "print(scores)\n",
    "if scores >= \"90\":\n",
    "    print(\"优秀\")\n",
    "elif (scores >= \"80\" and  scores < \"90\"):\n",
    "    print(\"良\")\n",
    "elif scores >= \"70\" and scores < \"80\":\n",
    "    print(\"中\")\n",
    "elif scores >= \"60\" and scores < \"70\":\n",
    "    print(\"及格\")\n",
    "else:\n",
    "    print(\"你是学渣\")"
   ]
  },
  {
   "cell_type": "code",
   "execution_count": null,
   "metadata": {},
   "outputs": [],
   "source": []
  },
  {
   "cell_type": "code",
   "execution_count": null,
   "metadata": {},
   "outputs": [],
   "source": []
  }
 ],
 "metadata": {
  "kernelspec": {
   "display_name": "Python 3",
   "language": "python",
   "name": "python3"
  },
  "language_info": {
   "codemirror_mode": {
    "name": "ipython",
    "version": 3
   },
   "file_extension": ".py",
   "mimetype": "text/x-python",
   "name": "python",
   "nbconvert_exporter": "python",
   "pygments_lexer": "ipython3",
   "version": "3.6.4"
  }
 },
 "nbformat": 4,
 "nbformat_minor": 2
}
