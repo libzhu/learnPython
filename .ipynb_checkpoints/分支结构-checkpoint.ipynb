{
 "cells": [
  {
   "cell_type": "markdown",
   "metadata": {},
   "source": [
    "# 程序结构\n",
    "- 程序三种结构\n",
    "    - 顺序\n",
    "    - 循环\n",
    "    - 分支"
   ]
  },
  {
   "cell_type": "markdown",
   "metadata": {},
   "source": [
    "# 分支结构\n",
    "- 分支结构的基本语法\n",
    "        if 条件表达式：\n",
    "            语句1\n",
    "            语句2\n",
    "            。。。\n",
    "- 条件表达式就是计算结果必须是布尔值的表达式\n",
    "- 表达式后面的冒号不能少\n",
    "- 注意if后面出现的语句，如果属于if语句，则必须统一等级缩进\n",
    "- 条件表达式结果为True 则执行后面的缩进语句"
   ]
  },
  {
   "cell_type": "code",
   "execution_count": 5,
   "metadata": {},
   "outputs": [
    {
     "name": "stdout",
     "output_type": "stream",
     "text": [
      "我就发财了\n",
      "迎娶白富美\n"
     ]
    }
   ],
   "source": [
    "# if 语句联系\n",
    "# 如果我们都买了习题课，我就发财了\n",
    "a = \"都卖了习题课\"\n",
    "# 字符串的真假：\n",
    "# 只有空字符串为False， 其余全部为True\n",
    "# a = \"\"\n",
    "if a:\n",
    "    print('我就发财了')\n",
    "    print('迎娶白富美')\n",
    "else:\n",
    "    print(\"不要做梦了\")"
   ]
  },
  {
   "cell_type": "code",
   "execution_count": 6,
   "metadata": {},
   "outputs": [
    {
     "name": "stdout",
     "output_type": "stream",
     "text": [
      "喝酒去\n",
      "下次我请你\n"
     ]
    }
   ],
   "source": [
    "# if 语句案例\n",
    "a = 19\n",
    "if a > 18:\n",
    "    print(\"喝酒去\")\n",
    "print(\"下次我请你\")"
   ]
  },
  {
   "cell_type": "code",
   "execution_count": 1,
   "metadata": {},
   "outputs": [
    {
     "name": "stdout",
     "output_type": "stream",
     "text": [
      "请输入您的性别jjj\n",
      "jjj\n",
      "你是男生吗\n",
      "一边玩去\n"
     ]
    }
   ],
   "source": [
    "# input 的作用\n",
    "# 1、在屏幕上输出括号内的字符串\n",
    "# 2、接受用户的内容并返回到程序\n",
    "# 3、input返回的类型一定是字符串类型\n",
    "\n",
    "gender = input(\"请输入您的性别\")\n",
    "print(gender)\n",
    "\n",
    "if gender == \"man\":\n",
    "    print(\"走，喝酒抽烟去\")\n",
    "    print(\"一起完全啊\")\n",
    "else:\n",
    "    print(\"你是男生吗\")\n",
    "    print(\"一边玩去\")"
   ]
  },
  {
   "cell_type": "code",
   "execution_count": 2,
   "metadata": {},
   "outputs": [
    {
     "name": "stdout",
     "output_type": "stream",
     "text": [
      "请输入你的分数90\n",
      "90\n",
      "优秀\n",
      "******************************\n",
      "请输入你的分数85\n",
      "还可以\n"
     ]
    }
   ],
   "source": [
    "# input 输出的是字符串  作比较时必须类型一致\n",
    "scores = input(\"请输入你的分数\")\n",
    "print(scores)\n",
    "if scores >= \"90\":\n",
    "    print(\"优秀\")\n",
    "elif (scores >= \"80\" and  scores < \"90\"):\n",
    "    print(\"良\")\n",
    "elif scores >= \"70\" and scores < \"80\":\n",
    "    print(\"中\")\n",
    "elif scores >= \"60\" and scores < \"70\":\n",
    "    print(\"及格\")\n",
    "else:\n",
    "    print(\"你是学渣\")\n",
    "    \n",
    "print(\"*\" * 30)\n",
    "anotherScores = input(\"请输入你的分数\")\n",
    "# 将字符串强转成整型\n",
    "anotherScores = int(anotherScores)\n",
    "if anotherScores >= 90:\n",
    "    print(\"考的很好啊\")\n",
    "if anotherScores >= 80 and anotherScores < 90:\n",
    "    print(\"还可以\")\n",
    "if anotherScores >= 70 and anotherScores < 80:\n",
    "    print(\"一般般\")\n",
    "if anotherScores >= 60 and anotherScores < 70:\n",
    "    pirnt(\"刚及格\")\n",
    "if anotherScores < 60:\n",
    "    print(\"下次接着考\")\n",
    "    \n",
    "    "
   ]
  },
  {
   "cell_type": "markdown",
   "metadata": {},
   "source": [
    "# 多路分支\n",
    "    if 条件表达式:\n",
    "        语句1\n",
    "    elif 条件表达式:\n",
    "        语句\n",
    "    elif 条件表达式:\n",
    "        语句\n",
    "    else:\n",
    "        语句\n",
    "- elif 可以有好多个\n",
    "- else 可以有可以没有\n",
    "- 多路分支最多只会执行一种情况"
   ]
  },
  {
   "cell_type": "code",
   "execution_count": 6,
   "metadata": {},
   "outputs": [
    {
     "name": "stdout",
     "output_type": "stream",
     "text": [
      "请输入你的成绩，必须是数字90\n",
      "A\n"
     ]
    }
   ],
   "source": [
    "# 多路分支案例\n",
    "s = input(\"请输入你的成绩，必须是数字\")\n",
    "s = int(s)\n",
    "if s >= 90:\n",
    "    print(\"A\")\n",
    "elif s >= 80 and s < 90:\n",
    "    print(\"B\")\n",
    "elif s >= 70 and s < 80:\n",
    "    print(\"C\")\n",
    "elif s >= 60 and s < 70:\n",
    "    print(\"D\")\n",
    "else:\n",
    "    print(\"不及格\")"
   ]
  },
  {
   "cell_type": "markdown",
   "metadata": {},
   "source": [
    "# 循环语句\n",
    "- 重复执行某个固定的动作或者任务\n",
    "- 分类\n",
    "    - for\n",
    "    - while\n",
    "    \n",
    "## for循环语法\n",
    "    for 变量 in 序列\n",
    "        语句1\n",
    "        。。。"
   ]
  },
  {
   "cell_type": "code",
   "execution_count": 9,
   "metadata": {},
   "outputs": [
    {
     "name": "stdout",
     "output_type": "stream",
     "text": [
      "1\n",
      "101\n",
      "1001\n",
      "2\n",
      "102\n",
      "1002\n",
      "3\n",
      "103\n",
      "1003\n",
      "4\n",
      "104\n",
      "1004\n",
      "5\n",
      "105\n",
      "1005\n"
     ]
    }
   ],
   "source": [
    "# 比如 [1, 2, 3, 4, 5]\n",
    "list = [1, 2, 3, 4, 5]\n",
    "for i in list:\n",
    "    print(i)\n",
    "    print(i + 100)\n",
    "    print(i + 1000)"
   ]
  },
  {
   "cell_type": "code",
   "execution_count": 13,
   "metadata": {},
   "outputs": [
    {
     "name": "stdout",
     "output_type": "stream",
     "text": [
      "liyi被冷酷的拒绝\n",
      "jingjing是我的最爱\n",
      "zhansan被冷酷的拒绝\n",
      "lisi被冷酷的拒绝\n",
      "wangwu被冷酷的拒绝\n",
      "zhaoliu被冷酷的拒绝\n"
     ]
    }
   ],
   "source": [
    "# 打印学生列表姓名\n",
    "# 如果是jingjing 那么肯定是我的最爱\n",
    "# 如果是别的学生， 那么冷酷的拒绝他\n",
    "students = [\"liyi\", \"jingjing\",\"zhansan\", \"lisi\", \"wangwu\", \"zhaoliu\"]\n",
    "for s in students:\n",
    "    if s == \"jingjing\":\n",
    "        print(s + \"是我的最爱\")\n",
    "    else:\n",
    "        print(s + \"被冷酷的拒绝\")"
   ]
  },
  {
   "cell_type": "markdown",
   "metadata": {},
   "source": [
    "# for-else 语句\n",
    "- for循环结束的时候，有些时候需要执行一些收尾工作，此时就会用到else\n",
    "- else语句可选"
   ]
  },
  {
   "cell_type": "code",
   "execution_count": 16,
   "metadata": {},
   "outputs": [
    {
     "name": "stdout",
     "output_type": "stream",
     "text": [
      "没有找到\n",
      "没有找到\n",
      "没有找到\n",
      "没有找到\n",
      "我的最爱\n",
      "不会再爱了\n"
     ]
    }
   ],
   "source": [
    "# for-else 语句案例\n",
    "# 打印列表中的同学\n",
    "# 如果没有在列表中，或者列表结束了，我们需要打印提示语句，表示不再爱了\n",
    "stu_list = [\"张三\", \"李四\", \"王五\", \"赵六\",\"王晓静\"]\n",
    "for s in stu_list:\n",
    "    if s == \"王晓静\":\n",
    "        print(\"我的最爱\")\n",
    "    else:\n",
    "        print(\"没有找到\")\n",
    "else:\n",
    "    print(\"不会再爱了\")"
   ]
  },
  {
   "cell_type": "markdown",
   "metadata": {},
   "source": [
    "# break continue pass\n",
    "- break: 无条件结束整个循环，简称循环 猝死；\n",
    "- continue: 继续 立即结束本轮循环，继续下一轮\n",
    "- pass 只是一个占位符,代表这句代码啥也不干， 没有跳过的功能"
   ]
  },
  {
   "cell_type": "code",
   "execution_count": 20,
   "metadata": {},
   "outputs": [
    {
     "name": "stdout",
     "output_type": "stream",
     "text": [
      "1\n",
      "3\n",
      "4\n",
      "haha,找到了\n"
     ]
    }
   ],
   "source": [
    "# break 练习\n",
    "# 确定一个数字队列中是否包含数字7\n",
    "dig_list = [1, 3, 4, 7, 8, 9, 10, 919, 8, 33, 7]\n",
    "for dig in dig_list:\n",
    "    if dig == 7:\n",
    "        print('haha,找到了')\n",
    "        break\n",
    "    else:\n",
    "        print(dig)"
   ]
  },
  {
   "cell_type": "code",
   "execution_count": 23,
   "metadata": {},
   "outputs": [
    {
     "name": "stdout",
     "output_type": "stream",
     "text": [
      "2\n",
      "哈哈\n",
      "4\n",
      "哈哈\n",
      "6\n",
      "哈哈\n",
      "8\n",
      "哈哈\n",
      "10\n",
      "哈哈\n"
     ]
    }
   ],
   "source": [
    "# continue 练习\n",
    "# 在 数字 1-10中，寻找所有的偶数， 找到偶数后打印偶数\n",
    "\"\"\"\n",
    "dig_list = [1, 2, 3, 4, 5, 6, 7, 8, 9, 10]\n",
    "for dig in dig_list:\n",
    "    if dig % 2 == 0:\n",
    "        print(dig)\n",
    "    else:\n",
    "        continue\n",
    "\"\"\"\n",
    "dig_list = [1, 2, 3, 4, 5, 6, 7, 8, 9, 10]\n",
    "for dig in dig_list:\n",
    "    if dig % 2 == 1: #奇数\n",
    "        continue\n",
    "        print(\"奇数\" + dig)\n",
    "    \n",
    "    print(dig)\n",
    "    print(\"哈哈\")\n",
    "   \n",
    "    "
   ]
  },
  {
   "cell_type": "code",
   "execution_count": 24,
   "metadata": {},
   "outputs": [
    {
     "name": "stdout",
     "output_type": "stream",
     "text": [
      "43\n",
      "88\n",
      "99\n",
      "100\n",
      "12\n",
      "66\n"
     ]
    }
   ],
   "source": [
    "# pass 案例\n",
    "age_list = [43, 88, 99, 100, 12, 66]\n",
    "for age in age_list:\n",
    "    pass\n",
    "    print(age)"
   ]
  },
  {
   "cell_type": "markdown",
   "metadata": {},
   "source": [
    "# range函数\n",
    "- range(x, y)\n",
    "- 生成有序数列\n",
    "- 生成数字队列可以定制, 生成的序列，两个数字是左包括又不包括"
   ]
  },
  {
   "cell_type": "code",
   "execution_count": 28,
   "metadata": {},
   "outputs": [
    {
     "name": "stdout",
     "output_type": "stream",
     "text": [
      "1\n",
      "2\n",
      "3\n",
      "4\n",
      "5\n",
      "6\n",
      "7\n",
      "8\n",
      "9\n",
      "10\n",
      "11\n",
      "12\n",
      "13\n",
      "14\n",
      "15\n",
      "16\n",
      "17\n",
      "18\n",
      "19\n",
      "20\n",
      "21\n",
      "22\n",
      "23\n",
      "24\n",
      "25\n",
      "26\n",
      "27\n",
      "28\n",
      "29\n",
      "30\n",
      "31\n",
      "32\n",
      "33\n",
      "34\n",
      "35\n",
      "36\n",
      "37\n",
      "38\n",
      "39\n",
      "40\n",
      "41\n",
      "42\n",
      "43\n",
      "44\n",
      "45\n",
      "46\n",
      "47\n",
      "48\n",
      "49\n",
      "50\n",
      "51\n",
      "52\n",
      "53\n",
      "54\n",
      "55\n",
      "56\n",
      "57\n",
      "58\n",
      "59\n",
      "60\n",
      "61\n",
      "62\n",
      "63\n",
      "64\n",
      "65\n",
      "66\n",
      "67\n",
      "68\n",
      "69\n",
      "70\n",
      "71\n",
      "72\n",
      "73\n",
      "74\n",
      "75\n",
      "76\n",
      "77\n",
      "78\n",
      "79\n",
      "80\n",
      "81\n",
      "82\n",
      "83\n",
      "84\n",
      "85\n",
      "86\n",
      "87\n",
      "88\n",
      "89\n",
      "90\n",
      "91\n",
      "92\n",
      "93\n",
      "94\n",
      "95\n",
      "96\n",
      "97\n",
      "98\n",
      "99\n",
      "100\n"
     ]
    }
   ],
   "source": [
    "# range案例1\n",
    "# 生成一个1到100的数字序列\n",
    "# range 生成的序列，两个数字是左包括又不包括\n",
    "dig_list = range(1, 101)\n",
    "for dig in dig_list:\n",
    "    print(dig)\n",
    "# 一般中Python中，连接表示范围的数字一般是左边包括右边不包括， randint 函数是个特例\n",
    "# range函数在Python2和Python3中区别很大"
   ]
  },
  {
   "cell_type": "code",
   "execution_count": 30,
   "metadata": {},
   "outputs": [
    {
     "name": "stdout",
     "output_type": "stream",
     "text": [
      "1\n",
      "2\n",
      "3\n",
      "4\n",
      "5\n",
      "6\n",
      "7\n",
      "8\n",
      "9\n"
     ]
    }
   ],
   "source": [
    "# range案例\n",
    "# 打印1-9的数字\n",
    "for dig in range(1, 10):\n",
    "    print(dig)"
   ]
  },
  {
   "cell_type": "markdown",
   "metadata": {},
   "source": [
    "# while 循环\n",
    "- 一个循环语句\n",
    "- 表示当条件成立的时候，就循环，适用于不知道具体循环次数，但能确定某个条件成立就循环\n",
    "- while 语法\n",
    "\n",
    "    while 条件表达式：\n",
    "        语句\n",
    "        \n",
    "    while 条件表达式：\n",
    "        语句\n",
    "    else：\n",
    "        语句"
   ]
  },
  {
   "cell_type": "code",
   "execution_count": 31,
   "metadata": {},
   "outputs": [
    {
     "name": "stdout",
     "output_type": "stream",
     "text": [
      "2\n",
      "3\n",
      "4\n",
      "5\n",
      "6\n",
      "7\n",
      "8\n",
      "9\n",
      "10\n"
     ]
    }
   ],
   "source": [
    "i = 1\n",
    "while i < 10:\n",
    "    i += 1\n",
    "    print(i)"
   ]
  },
  {
   "cell_type": "code",
   "execution_count": 36,
   "metadata": {},
   "outputs": [
    {
     "name": "stdout",
     "output_type": "stream",
     "text": [
      "27年本钱翻倍\n",
      "18年本钱翻倍\n"
     ]
    }
   ],
   "source": [
    "# 如果说年利率为2.7%， 本利是每年翻滚， 则多少年本钱会翻倍\n",
    "benqian = 10000\n",
    "year = 0\n",
    "# 案例1\n",
    "while benqian < 20000:\n",
    "    benqian *= (1 + 0.027)\n",
    "    year += 1\n",
    "print(str(year) + \"年本钱翻倍\")\n",
    "\n",
    "\n",
    "# 案例2\n",
    "# 如果利率是%4\n",
    "benqian = 30000\n",
    "year = 0\n",
    "while benqian < 60000:\n",
    "    benqian *= (1 + 0.04)\n",
    "    year += 1\n",
    "else:\n",
    "    print(str(year) + \"年本钱翻倍\")"
   ]
  },
  {
   "cell_type": "code",
   "execution_count": null,
   "metadata": {},
   "outputs": [],
   "source": []
  }
 ],
 "metadata": {
  "kernelspec": {
   "display_name": "Python 3",
   "language": "python",
   "name": "python3"
  },
  "language_info": {
   "codemirror_mode": {
    "name": "ipython",
    "version": 3
   },
   "file_extension": ".py",
   "mimetype": "text/x-python",
   "name": "python",
   "nbconvert_exporter": "python",
   "pygments_lexer": "ipython3",
   "version": "3.6.4"
  }
 },
 "nbformat": 4,
 "nbformat_minor": 2
}
