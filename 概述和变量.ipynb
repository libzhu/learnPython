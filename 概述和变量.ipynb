{
 "cells": [
  {
   "cell_type": "markdown",
   "metadata": {},
   "source": [
    "# 主要类容\n",
    "- 坚持写blog\n",
    "- jupyter的用法\n",
    "- 变量的定义"
   ]
  },
  {
   "cell_type": "code",
   "execution_count": 12,
   "metadata": {},
   "outputs": [
    {
     "name": "stdout",
     "output_type": "stream",
     "text": [
      "hello world\n",
      "我爱冉玉鹏\n",
      "hello world hello world\n",
      "I Love you\n"
     ]
    }
   ],
   "source": [
    "print(\"hello world\")\n",
    "\n",
    "# 变量的声明\n",
    "# 格式1\n",
    "s = \"我爱冉玉鹏\"\n",
    "print(s)\n",
    "\n",
    "# 格式2\n",
    "s2 = s1 = \"hello world\"\n",
    "print(s2,s1)\n",
    "\n",
    "# 格式3\n",
    "s1, s2, s3 = \"I\", \"Love\", \"you\"\n",
    "print(s1, s2, s3)\n"
   ]
  },
  {
   "cell_type": "markdown",
   "metadata": {},
   "source": [
    "# 变量类型\n",
    "- 严格意义上讲，Python只有一个类型\n",
    "- 标准数据类型六种\n",
    "    - 数字类型 Number\n",
    "    - 字符串类型 str\n",
    "    - 列表 list\n",
    "    - 元组 tuple\n",
    "    - 字典 dict\n",
    "    - 集合 set\n",
    "    "
   ]
  },
  {
   "cell_type": "markdown",
   "metadata": {},
   "source": [
    "# 数字类型Number\n",
    "- Python中的数字没有大小限制\n",
    "# 常见数字分类\n",
    "- 整数\n",
    "    - 没有小数部分\n",
    "    - 包含正整数 负数 0\n",
    "    - 二进制、八进制、十六进制\n",
    "        - 只有0 1\n",
    "        - 以0b开头的01串\n",
    "        - 例如\n",
    "            - 0b110\n",
    "            - 0b1010\n",
    "- 浮点数\n",
    "    - 通俗的意义就是小数\n",
    "        - 常见的格式\n",
    "            - 3.14159\n",
    "            - 3.14\n",
    "            - 0.4\n",
    "            - 4.\n",
    "            - .4\n",
    "        - 科学计数法\n",
    "            - 和数学定义的一致\n",
    "            - 3.14e2 即 314 写法就是e后面跟整数来表示10的指数\n",
    "            \n",
    "- 布尔值\n",
    "    - 用True 和 False 表示真、假\n",
    "    - 在Python中，布尔值可以当数字使用\n",
    "    \n",
    "- 字符串\n",
    "    - 表达文字的的内容， ”我爱北京天安门“\n",
    "    - 形式上使用引号引起来的内容\n",
    "        ##### 引号包括\n",
    "            - 单引号\n",
    "            - 双引号\n",
    "            - 三引号\n",
    "    - 单双引号含义一致\n",
    "    \n",
    "- None 类型\n",
    "    - 表示 空  通常用来占位\n",
    "        "
   ]
  },
  {
   "cell_type": "code",
   "execution_count": 22,
   "metadata": {},
   "outputs": [
    {
     "name": "stdout",
     "output_type": "stream",
     "text": [
      "6\n",
      "21\n",
      "21\n",
      "16\n",
      "57\n",
      "16777215\n"
     ]
    }
   ],
   "source": [
    "#整数\n",
    "#二进制\n",
    "a = 0b110\n",
    "print(a)\n",
    "\n",
    "b = 0b10101\n",
    "print(b)\n",
    "\n",
    "c = 0b010101\n",
    "print(c)\n",
    "\n",
    "d = 0b10000\n",
    "print(d)\n",
    "\n",
    "#八进制\n",
    "e = 0o71\n",
    "print(e)\n",
    "\n",
    "#十六进制\n",
    "f = 0xffffff\n",
    "print(f)\n",
    "\n"
   ]
  },
  {
   "cell_type": "code",
   "execution_count": 26,
   "metadata": {},
   "outputs": [
    {
     "name": "stdout",
     "output_type": "stream",
     "text": [
      "175.2\n",
      "41650.0\n"
     ]
    }
   ],
   "source": [
    "#常见的浮点数\n",
    "height = 175.2\n",
    "print(height)\n",
    "\n",
    "longBridge = 4.165e4\n",
    "print(longBridge)\n"
   ]
  },
  {
   "cell_type": "code",
   "execution_count": 37,
   "metadata": {},
   "outputs": [
    {
     "name": "stdout",
     "output_type": "stream",
     "text": [
      "False\n",
      "10\n",
      "True\n",
      "11\n",
      "真\n"
     ]
    }
   ],
   "source": [
    "#布尔值\n",
    "a = False\n",
    "print(a)\n",
    "\n",
    "b = a + 10\n",
    "print(b)\n",
    "\n",
    "c = True\n",
    "print(c)\n",
    "\n",
    "d = c + 10\n",
    "print(d)\n",
    "\n",
    "if a: \n",
    "    print(\"假\")\n",
    "else:\n",
    "    print(\"真\")"
   ]
  },
  {
   "cell_type": "code",
   "execution_count": 40,
   "metadata": {},
   "outputs": [
    {
     "name": "stdout",
     "output_type": "stream",
     "text": [
      "hello world\n",
      "good night\n",
      "\n",
      "北国风光\n",
      "千里冰封\n",
      "万里雪飘\n",
      "望长城内外\n",
      "惟余莽莽\n",
      "大河上下\n",
      "顿失滔滔\n",
      "\n"
     ]
    }
   ],
   "source": [
    "#字符串\n",
    "h = \"hello world\"\n",
    "print(h)\n",
    "\n",
    "t = 'good night'\n",
    "print(t)\n",
    "\n",
    "g = \"\"\"\n",
    "北国风光\n",
    "千里冰封\n",
    "万里雪飘\n",
    "望长城内外\n",
    "惟余莽莽\n",
    "大河上下\n",
    "顿失滔滔\n",
    "\"\"\"\n",
    "\n",
    "print(g)"
   ]
  },
  {
   "cell_type": "code",
   "execution_count": null,
   "metadata": {},
   "outputs": [],
   "source": []
  }
 ],
 "metadata": {
  "kernelspec": {
   "display_name": "Python 3",
   "language": "python",
   "name": "python3"
  },
  "language_info": {
   "codemirror_mode": {
    "name": "ipython",
    "version": 3
   },
   "file_extension": ".py",
   "mimetype": "text/x-python",
   "name": "python",
   "nbconvert_exporter": "python",
   "pygments_lexer": "ipython3",
   "version": "3.6.4"
  }
 },
 "nbformat": 4,
 "nbformat_minor": 2
}
