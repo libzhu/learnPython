{
 "cells": [
  {
   "cell_type": "markdown",
   "metadata": {},
   "source": [
    "# 字典 dict \n",
    "- Python内置了字典：dict的支持， dict全称dictionary， 使用键-值（key - value）存储， 具有极快的查找速度"
   ]
  },
  {
   "cell_type": "code",
   "execution_count": 8,
   "metadata": {},
   "outputs": [
    {
     "name": "stdout",
     "output_type": "stream",
     "text": [
      "Help on class dict in module builtins:\n",
      "\n",
      "class dict(object)\n",
      " |  dict() -> new empty dictionary\n",
      " |  dict(mapping) -> new dictionary initialized from a mapping object's\n",
      " |      (key, value) pairs\n",
      " |  dict(iterable) -> new dictionary initialized as if via:\n",
      " |      d = {}\n",
      " |      for k, v in iterable:\n",
      " |          d[k] = v\n",
      " |  dict(**kwargs) -> new dictionary initialized with the name=value pairs\n",
      " |      in the keyword argument list.  For example:  dict(one=1, two=2)\n",
      " |  \n",
      " |  Methods defined here:\n",
      " |  \n",
      " |  __contains__(self, key, /)\n",
      " |      True if D has a key k, else False.\n",
      " |  \n",
      " |  __delitem__(self, key, /)\n",
      " |      Delete self[key].\n",
      " |  \n",
      " |  __eq__(self, value, /)\n",
      " |      Return self==value.\n",
      " |  \n",
      " |  __ge__(self, value, /)\n",
      " |      Return self>=value.\n",
      " |  \n",
      " |  __getattribute__(self, name, /)\n",
      " |      Return getattr(self, name).\n",
      " |  \n",
      " |  __getitem__(...)\n",
      " |      x.__getitem__(y) <==> x[y]\n",
      " |  \n",
      " |  __gt__(self, value, /)\n",
      " |      Return self>value.\n",
      " |  \n",
      " |  __init__(self, /, *args, **kwargs)\n",
      " |      Initialize self.  See help(type(self)) for accurate signature.\n",
      " |  \n",
      " |  __iter__(self, /)\n",
      " |      Implement iter(self).\n",
      " |  \n",
      " |  __le__(self, value, /)\n",
      " |      Return self<=value.\n",
      " |  \n",
      " |  __len__(self, /)\n",
      " |      Return len(self).\n",
      " |  \n",
      " |  __lt__(self, value, /)\n",
      " |      Return self<value.\n",
      " |  \n",
      " |  __ne__(self, value, /)\n",
      " |      Return self!=value.\n",
      " |  \n",
      " |  __new__(*args, **kwargs) from builtins.type\n",
      " |      Create and return a new object.  See help(type) for accurate signature.\n",
      " |  \n",
      " |  __repr__(self, /)\n",
      " |      Return repr(self).\n",
      " |  \n",
      " |  __setitem__(self, key, value, /)\n",
      " |      Set self[key] to value.\n",
      " |  \n",
      " |  __sizeof__(...)\n",
      " |      D.__sizeof__() -> size of D in memory, in bytes\n",
      " |  \n",
      " |  clear(...)\n",
      " |      D.clear() -> None.  Remove all items from D.\n",
      " |  \n",
      " |  copy(...)\n",
      " |      D.copy() -> a shallow copy of D\n",
      " |  \n",
      " |  fromkeys(iterable, value=None, /) from builtins.type\n",
      " |      Returns a new dict with keys from iterable and values equal to value.\n",
      " |  \n",
      " |  get(...)\n",
      " |      D.get(k[,d]) -> D[k] if k in D, else d.  d defaults to None.\n",
      " |  \n",
      " |  items(...)\n",
      " |      D.items() -> a set-like object providing a view on D's items\n",
      " |  \n",
      " |  keys(...)\n",
      " |      D.keys() -> a set-like object providing a view on D's keys\n",
      " |  \n",
      " |  pop(...)\n",
      " |      D.pop(k[,d]) -> v, remove specified key and return the corresponding value.\n",
      " |      If key is not found, d is returned if given, otherwise KeyError is raised\n",
      " |  \n",
      " |  popitem(...)\n",
      " |      D.popitem() -> (k, v), remove and return some (key, value) pair as a\n",
      " |      2-tuple; but raise KeyError if D is empty.\n",
      " |  \n",
      " |  setdefault(...)\n",
      " |      D.setdefault(k[,d]) -> D.get(k,d), also set D[k]=d if k not in D\n",
      " |  \n",
      " |  update(...)\n",
      " |      D.update([E, ]**F) -> None.  Update D from dict/iterable E and F.\n",
      " |      If E is present and has a .keys() method, then does:  for k in E: D[k] = E[k]\n",
      " |      If E is present and lacks a .keys() method, then does:  for k, v in E: D[k] = v\n",
      " |      In either case, this is followed by: for k in F:  D[k] = F[k]\n",
      " |  \n",
      " |  values(...)\n",
      " |      D.values() -> an object providing a view on D's values\n",
      " |  \n",
      " |  ----------------------------------------------------------------------\n",
      " |  Data and other attributes defined here:\n",
      " |  \n",
      " |  __hash__ = None\n",
      "\n",
      "75\n",
      "{'Michael': 95, 'Bob': 75, 'Tracy': 85, 'James': 99}\n",
      "{'Michael': 95, 'Bob': 90, 'Tracy': 85, 'James': 99}\n"
     ]
    }
   ],
   "source": [
    "help(dict)\n",
    "\n",
    "# 假设要根据同学名称查找对应的成绩，如果使用list 需要两个\n",
    "names = [\"Michael\", \"Bob\", \"Tracy\"]\n",
    "scores = [95, 96, 85]\n",
    "# 给定一个名字，要查找对应的成绩，就先要在names中找到对应的位置，再从scores中找到对应的分数 List越长，越耗时。\n",
    "\n",
    "# 如果用dict 实现， 只需要一个”名字 - 成绩“的对照表 直接根据名字查成绩\n",
    "d = {\"Michael\":95, \"Bob\":75, \"Tracy\":85}\n",
    "print(d[\"Bob\"])\n",
    "\n",
    "# 新增一个学生的成绩\n",
    "d[\"James\"] = 99\n",
    "print(d)\n",
    "\n",
    "# 修改一个学生的成绩\n",
    "d[\"Bob\"] = 90\n",
    "print(d)\n"
   ]
  },
  {
   "cell_type": "code",
   "execution_count": 13,
   "metadata": {},
   "outputs": [
    {
     "name": "stdout",
     "output_type": "stream",
     "text": [
      "Thomas 学生不存在\n",
      "None\n",
      "-2\n",
      "99\n"
     ]
    }
   ],
   "source": [
    "\n",
    "# 如果 key 不存在 就会报错\n",
    "# print(d[\"Thomas\"])\n",
    "\n",
    "if \"Thomas\" in d:\n",
    "    print(d[\"Thomas\"])\n",
    "else:\n",
    "    print(\"Thomas 学生不存在\")\n",
    "    \n",
    "# 可以通过 dict提供的get()方法， 如果key不存在，默认返回None。也可以指定特定的返回值\n",
    "print(d.get(\"Thomas\"))\n",
    "print(d.get(\"Thomas\", -2)) # 指定返回值 -2\n",
    "\n",
    "print(d.get(\"James\"))\n"
   ]
  },
  {
   "cell_type": "code",
   "execution_count": 23,
   "metadata": {},
   "outputs": [
    {
     "name": "stdout",
     "output_type": "stream",
     "text": [
      "<class 'int'>\n",
      "75\n",
      "********************\n",
      "{'Michael': 95, 'Tracy': 85}\n",
      "{}\n"
     ]
    }
   ],
   "source": [
    "# dict  删除\n",
    "d = {\"Michael\":95, \"Bob\":75, \"Tracy\":85}\n",
    "dp = d.pop(\"Bob\")\n",
    "print(type(dp))\n",
    "print(dp)\n",
    "print(\"*\" * 20)\n",
    "print(d)\n",
    "\n",
    "# 删除全部\n",
    "d.clear()\n",
    "print(d)\n",
    "\n",
    "\n"
   ]
  },
  {
   "cell_type": "code",
   "execution_count": 29,
   "metadata": {},
   "outputs": [
    {
     "name": "stdout",
     "output_type": "stream",
     "text": [
      "<class 'dict_keys'>\n",
      "Michael\n",
      "Bob\n",
      "Tracy\n",
      "dict_keys(['Michael', 'Bob', 'Tracy'])\n",
      "********************\n",
      "<class 'dict_values'>\n",
      "dict_values([95, 75, 85])\n",
      "95\n",
      "75\n",
      "85\n"
     ]
    }
   ],
   "source": [
    "# keys 和 values\n",
    "d = {\"Michael\":95, \"Bob\":75, \"Tracy\":85}\n",
    "k_list = d.keys()\n",
    "print(type(k_list))\n",
    "for k in k_list:\n",
    "    print(k)\n",
    "print(k_list)\n",
    "print(\"*\" * 20)\n",
    "\n",
    "value_list = d.values()\n",
    "print(type(value_list))\n",
    "print(value_list)\n",
    "for value in value_list:\n",
    "    print(value)"
   ]
  },
  {
   "cell_type": "code",
   "execution_count": null,
   "metadata": {},
   "outputs": [],
   "source": []
  }
 ],
 "metadata": {
  "kernelspec": {
   "display_name": "Python 3",
   "language": "python",
   "name": "python3"
  },
  "language_info": {
   "codemirror_mode": {
    "name": "ipython",
    "version": 3
   },
   "file_extension": ".py",
   "mimetype": "text/x-python",
   "name": "python",
   "nbconvert_exporter": "python",
   "pygments_lexer": "ipython3",
   "version": "3.6.4"
  }
 },
 "nbformat": 4,
 "nbformat_minor": 2
}
