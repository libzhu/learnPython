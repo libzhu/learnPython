{
 "cells": [
  {
   "cell_type": "markdown",
   "metadata": {},
   "source": [
    "# list 列表\n",
    "- 由一组有序的数据做成的序列\n",
    "    - 数据有先后顺序\n",
    "    - 数据可以不是一类数据\n",
    "- 列表的创建\n",
    "    - 直接创建，用中括号创建，内容直接用英文逗号隔开\n",
    "    - 使用list 创建\n",
    "    - 列表中包含单个字符串的时候是个特例\n",
    "    - "
   ]
  },
  {
   "cell_type": "code",
   "execution_count": 2,
   "metadata": {},
   "outputs": [
    {
     "name": "stdout",
     "output_type": "stream",
     "text": [
      "[1, 2, 3, 4, 5]\n",
      "[1, 3, 'LiuDana', '大拿']\n"
     ]
    }
   ],
   "source": [
    "#直接创建赋值\n",
    "L1 = [1, 2, 3, 4, 5]\n",
    "\n",
    "# list内的数据可以不是一个数据\n",
    "L2 = [1, 3, \"LiuDana\", \"大拿\"]\n",
    "print(L1)\n",
    "print(L2)"
   ]
  },
  {
   "cell_type": "code",
   "execution_count": 6,
   "metadata": {},
   "outputs": [
    {
     "name": "stdout",
     "output_type": "stream",
     "text": [
      "[]\n",
      "<class 'list'>\n"
     ]
    }
   ],
   "source": [
    "# 创建列表的第二种方式\n",
    "L3 = list()\n",
    "print(L3)\n",
    "print(type(L3))\n",
    "# help(list)"
   ]
  },
  {
   "cell_type": "markdown",
   "metadata": {},
   "source": [
    "# 内置函数概念\n",
    "- help：帮组函数\n",
    "- type：显示变量的类型\n",
    "- id： 显示变量的id\n",
    "- print:"
   ]
  },
  {
   "cell_type": "code",
   "execution_count": 9,
   "metadata": {},
   "outputs": [
    {
     "name": "stdout",
     "output_type": "stream",
     "text": [
      "['liu Dana']\n",
      "<class 'list'>\n",
      "********************\n",
      "<class 'list'>\n",
      "['l', 'i', 'u', ' ', 'D', 'a', 'n', 'a']\n"
     ]
    }
   ],
   "source": [
    "# List 创建的特例演示\n",
    "s = \"liu Dana\"\n",
    "# 想创建一个只包含s一个字符串的列表\n",
    "L1 = [s]\n",
    "print(L1)\n",
    "print(type(L1))\n",
    "\n",
    "print(\"*\" * 20)\n",
    "\n",
    "# 应按照上面方法创建\n",
    "L2 = list(s)\n",
    "print(type(L2))\n",
    "print(L2)"
   ]
  },
  {
   "cell_type": "markdown",
   "metadata": {},
   "source": [
    "# 列表的常见操作\n",
    "- 访问\n",
    "    - 使用下标操作 ，也叫索引\n",
    "    - 列表的元素索引从0开始\n",
    "- 切片操作\n",
    "    - 对列表任意段截取\n",
    "    - 返回一个新的列表\n",
    "    "
   ]
  },
  {
   "cell_type": "code",
   "execution_count": 11,
   "metadata": {},
   "outputs": [
    {
     "name": "stdout",
     "output_type": "stream",
     "text": [
      "22\n"
     ]
    },
    {
     "ename": "IndexError",
     "evalue": "list index out of range",
     "output_type": "error",
     "traceback": [
      "\u001b[0;31m---------------------------------------------------------------------------\u001b[0m",
      "\u001b[0;31mIndexError\u001b[0m                                Traceback (most recent call last)",
      "\u001b[0;32m<ipython-input-11-40fce397a8f3>\u001b[0m in \u001b[0;36m<module>\u001b[0;34m\u001b[0m\n\u001b[1;32m      3\u001b[0m \u001b[0mprint\u001b[0m\u001b[0;34m(\u001b[0m\u001b[0mL1\u001b[0m\u001b[0;34m[\u001b[0m\u001b[0;36m0\u001b[0m\u001b[0;34m]\u001b[0m\u001b[0;34m)\u001b[0m\u001b[0;34m\u001b[0m\u001b[0m\n\u001b[1;32m      4\u001b[0m \u001b[0;34m\u001b[0m\u001b[0m\n\u001b[0;32m----> 5\u001b[0;31m \u001b[0mprint\u001b[0m\u001b[0;34m(\u001b[0m\u001b[0mL1\u001b[0m\u001b[0;34m[\u001b[0m\u001b[0;36m6\u001b[0m\u001b[0;34m]\u001b[0m\u001b[0;34m)\u001b[0m\u001b[0;34m\u001b[0m\u001b[0m\n\u001b[0m",
      "\u001b[0;31mIndexError\u001b[0m: list index out of range"
     ]
    }
   ],
   "source": [
    "L1= [22, 33, 44, 55]\n",
    "# 使用下标访问\n",
    "print(L1[0])\n",
    "\n",
    "# 数组访问超标 数组访问越界\n",
    "print(L1[6])"
   ]
  },
  {
   "cell_type": "code",
   "execution_count": 17,
   "metadata": {},
   "outputs": [
    {
     "name": "stdout",
     "output_type": "stream",
     "text": [
      "[20, 30, 40, 50]\n",
      "4539922120\n",
      "4539923464\n",
      "[10, 20, 30, 40]\n",
      "[30, 40, 50, 60, 70, 80, 90, 100]\n",
      "[10, 20, 30, 40, 50, 60, 70, 80, 90, 100]\n"
     ]
    }
   ],
   "source": [
    "# 切片操作需要注意取值范围，左包括，右不包括\n",
    "L1 = [10, 20, 30, 40, 50, 60, 70, 80, 90, 100]\n",
    "print(L1[1:5]) #打印20，30，40，50\n",
    "\n",
    "# 列表截取生成的是一个全新的列表\n",
    "# 通过内置Id可以判断 即内存地址判断\n",
    "# id可以判断两个变量是否是同一变量\n",
    "L2 = L1[1:5]\n",
    "\n",
    "print(id(L1))\n",
    "print(id(L2))\n",
    "\n",
    "# 切片的下标可为空\n",
    "print(L1[:4]) # 到下标3号位置结束\n",
    "print(L1[2:]) #从下表2号位置开始截取\n",
    "print(L1[:]) #从下标0号位开始到结束"
   ]
  },
  {
   "cell_type": "code",
   "execution_count": 19,
   "metadata": {},
   "outputs": [
    {
     "name": "stdout",
     "output_type": "stream",
     "text": [
      "[10, 20, 30, 40, 50, 60, 70, 80, 90, 100]\n",
      "[10, 30, 50, 70, 90]\n"
     ]
    }
   ],
   "source": [
    "# 列表切片截取，可以控制增长幅度，默认增长幅度为1\n",
    "print(L1[::1]) #等于 print(L1[:])\n",
    "print(L1[::2])\n"
   ]
  },
  {
   "cell_type": "code",
   "execution_count": 20,
   "metadata": {},
   "outputs": [
    {
     "name": "stdout",
     "output_type": "stream",
     "text": [
      "[30, 40, 50, 60, 70, 80, 90, 100]\n"
     ]
    }
   ],
   "source": [
    "# 列表切片截取，可以超出范围，\n",
    "print(L1[2:100])"
   ]
  },
  {
   "cell_type": "code",
   "execution_count": 36,
   "metadata": {},
   "outputs": [
    {
     "name": "stdout",
     "output_type": "stream",
     "text": [
      "[]\n",
      "[90, 80, 70]\n",
      "[70, 80, 90]\n",
      "[100, 90, 80, 70, 60, 50, 40, 30, 20, 10]\n",
      "[100, 90, 80, 70, 60, 50, 40, 30, 20, 10]\n",
      "[10, 20, 30, 40, 50, 60, 70, 80, 90, 100]\n"
     ]
    }
   ],
   "source": [
    "# 下标值，增长幅度可以为负\n",
    "# 下标为负数，表明顺序从右往左\n",
    "# 规定：数组的最后一个数字的下标是-1\n",
    "L1 = [10, 20, 30, 40, 50, 60, 70, 80, 90, 100]\n",
    "# 下面例子为空，因为列表默认从左往右移动\n",
    "print(L1[-2:-5])\n",
    "\n",
    "# 如果要想打印 70， 80， 90\n",
    "print(L1[-2:-5:-1]) #90 80 70\n",
    "print(L1[-4:-1:1])\n",
    "print(L1[::-1]) #倒叙\n",
    "L2 = L1[::-1]\n",
    "print(L2)\n",
    "print(L2[::-1])"
   ]
  },
  {
   "cell_type": "code",
   "execution_count": null,
   "metadata": {},
   "outputs": [],
   "source": []
  }
 ],
 "metadata": {
  "kernelspec": {
   "display_name": "Python 3",
   "language": "python",
   "name": "python3"
  },
  "language_info": {
   "codemirror_mode": {
    "name": "ipython",
    "version": 3
   },
   "file_extension": ".py",
   "mimetype": "text/x-python",
   "name": "python",
   "nbconvert_exporter": "python",
   "pygments_lexer": "ipython3",
   "version": "3.6.4"
  }
 },
 "nbformat": 4,
 "nbformat_minor": 2
}
