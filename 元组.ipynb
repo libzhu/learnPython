{
 "cells": [
  {
   "cell_type": "markdown",
   "metadata": {},
   "source": [
    "# tuple（元组）\n",
    "- 可以理解为一个不允许更改的列表\n"
   ]
  },
  {
   "cell_type": "code",
   "execution_count": 7,
   "metadata": {},
   "outputs": [
    {
     "name": "stdout",
     "output_type": "stream",
     "text": [
      "<class 'tuple'>\n",
      "<class 'int'>\n",
      "<class 'tuple'>\n",
      "(100, 200, 300)\n"
     ]
    }
   ],
   "source": [
    "# tuple的创建\n",
    "#1.直接用（）创建\n",
    "ta = ()\n",
    "print(type(ta))\n",
    "\n",
    "# 当用小括号创建一个元素的tuple时候\n",
    "\n",
    "tc = (100) #int 100\n",
    "print(type(tc))\n",
    "\n",
    "#注意和上面的区别\n",
    "tb = (100,)\n",
    "print(type(tb))\n",
    "\n",
    "td = (100, 200, 300)\n",
    "print(td)"
   ]
  },
  {
   "cell_type": "code",
   "execution_count": 10,
   "metadata": {},
   "outputs": [
    {
     "name": "stdout",
     "output_type": "stream",
     "text": [
      "(100,)\n",
      "<class 'tuple'>\n",
      "(100, 200, 300)\n"
     ]
    }
   ],
   "source": [
    "# 直接用逗号创建\n",
    "ta = 100,  \n",
    "print(ta)\n",
    "print(type(ta))\n",
    "\n",
    "tb = 100, 200, 300  #后面可以跟逗号\n",
    "print(tb)\n"
   ]
  },
  {
   "cell_type": "code",
   "execution_count": 13,
   "metadata": {},
   "outputs": [
    {
     "name": "stdout",
     "output_type": "stream",
     "text": [
      "()\n",
      "(1, 3, 4, 'I', 'beijing')\n",
      "[1, 3, 4, 'I', 'beijing']\n"
     ]
    }
   ],
   "source": [
    "# 使用tuple定义\n",
    "ta = tuple()\n",
    "print(ta)\n",
    "\n",
    "li = [1, 3, 4, \"I\", \"beijing\"]\n",
    "tb = tuple(li) #要求tuple的参数是可以迭代的\n",
    "print(tb)\n",
    "print(li)"
   ]
  },
  {
   "cell_type": "markdown",
   "metadata": {},
   "source": [
    "# tuple 其余特征和List基本一致\n",
    "- 有序\n",
    "- 可以访问不可以被修改\n",
    "- 元素可以是任意类型\n"
   ]
  },
  {
   "cell_type": "code",
   "execution_count": 18,
   "metadata": {},
   "outputs": [
    {
     "name": "stdout",
     "output_type": "stream",
     "text": [
      "['i', 'love', 'you']\n",
      "you\n"
     ]
    }
   ],
   "source": [
    "#tuple 的索引操作\n",
    "li = [\"i\", \"love\", \"you\"]\n",
    "print(li)\n",
    "ta = tuple(li)\n",
    "print(ta[2])"
   ]
  },
  {
   "cell_type": "code",
   "execution_count": 22,
   "metadata": {},
   "outputs": [
    {
     "name": "stdout",
     "output_type": "stream",
     "text": [
      "('i', 'love', 'you')\n",
      "('i', 'love')\n",
      "('you', 'love', 'i')\n"
     ]
    }
   ],
   "source": [
    "# tuple 分片截取操作\n",
    "print(ta[:])\n",
    "print(ta[:2])\n",
    "print(ta[-1::-1]) #从右往左 -1开始 "
   ]
  },
  {
   "cell_type": "code",
   "execution_count": 25,
   "metadata": {},
   "outputs": [
    {
     "name": "stdout",
     "output_type": "stream",
     "text": [
      "(100, 200, 300, 'I', 'love', 'you')\n"
     ]
    }
   ],
   "source": [
    "# tuple 元组相加\n",
    "ta = 100, 200, 300\n",
    "tb = (\"I\", \"love\", \"you\")\n",
    "tc = ta + tb\n",
    "print(tc)"
   ]
  },
  {
   "cell_type": "code",
   "execution_count": 24,
   "metadata": {},
   "outputs": [
    {
     "name": "stdout",
     "output_type": "stream",
     "text": [
      "(100, 200, 300, 100, 200, 300)\n"
     ]
    }
   ],
   "source": [
    "# tuple 元组相乘\n",
    "tc = ta * 2\n",
    "print(tc)"
   ]
  },
  {
   "cell_type": "code",
   "execution_count": 26,
   "metadata": {},
   "outputs": [
    {
     "name": "stdout",
     "output_type": "stream",
     "text": [
      "('I', 'love', 'you')\n"
     ]
    }
   ],
   "source": [
    "# 成员检测\n",
    "print(tb)"
   ]
  },
  {
   "cell_type": "code",
   "execution_count": 29,
   "metadata": {},
   "outputs": [
    {
     "name": "stdout",
     "output_type": "stream",
     "text": [
      "对的\n"
     ]
    }
   ],
   "source": [
    "if \"you\" in tb:\n",
    "    print(\"对的\")\n",
    "    \n",
    "if \"love\" not in tb:\n",
    "    print(\"不爱了\")"
   ]
  },
  {
   "cell_type": "code",
   "execution_count": 30,
   "metadata": {},
   "outputs": [
    {
     "name": "stdout",
     "output_type": "stream",
     "text": [
      "I\n",
      "love\n",
      "you\n"
     ]
    }
   ],
   "source": [
    "# tuple 元组的遍历\n",
    "for i in tb:\n",
    "    print(i)\n",
    "    \n"
   ]
  },
  {
   "cell_type": "code",
   "execution_count": 37,
   "metadata": {},
   "outputs": [
    {
     "name": "stdout",
     "output_type": "stream",
     "text": [
      "(10, 20, 30)\n",
      "10\n",
      "20\n",
      "30\n",
      "('1', 'love', 'wangxiaojing')\n",
      "1\n",
      "love\n",
      "wangxiaojing\n",
      "(100, 200, 2300)\n",
      "100\n",
      "200\n",
      "2300\n",
      "******************************\n",
      "10 20 30\n",
      "1 love wangxiaojing\n",
      "100 200 2300\n"
     ]
    },
    {
     "ename": "ValueError",
     "evalue": "not enough values to unpack (expected 4, got 3)",
     "output_type": "error",
     "traceback": [
      "\u001b[0;31m---------------------------------------------------------------------------\u001b[0m",
      "\u001b[0;31mValueError\u001b[0m                                Traceback (most recent call last)",
      "\u001b[0;32m<ipython-input-37-6dd7bd8c76ac>\u001b[0m in \u001b[0;36m<module>\u001b[0;34m\u001b[0m\n\u001b[1;32m     11\u001b[0m     \u001b[0mprint\u001b[0m\u001b[0;34m(\u001b[0m\u001b[0mi\u001b[0m\u001b[0;34m,\u001b[0m \u001b[0mj\u001b[0m\u001b[0;34m,\u001b[0m \u001b[0mk\u001b[0m\u001b[0;34m)\u001b[0m\u001b[0;34m\u001b[0m\u001b[0m\n\u001b[1;32m     12\u001b[0m \u001b[0;34m\u001b[0m\u001b[0m\n\u001b[0;32m---> 13\u001b[0;31m \u001b[0;32mfor\u001b[0m \u001b[0mi\u001b[0m\u001b[0;34m,\u001b[0m\u001b[0mj\u001b[0m\u001b[0;34m,\u001b[0m\u001b[0mk\u001b[0m\u001b[0;34m,\u001b[0m\u001b[0mq\u001b[0m \u001b[0;32min\u001b[0m \u001b[0mta\u001b[0m\u001b[0;34m:\u001b[0m\u001b[0;34m\u001b[0m\u001b[0m\n\u001b[0m\u001b[1;32m     14\u001b[0m     \u001b[0mprint\u001b[0m\u001b[0;34m(\u001b[0m\u001b[0mi\u001b[0m\u001b[0;34m,\u001b[0m\u001b[0mj\u001b[0m\u001b[0;34m,\u001b[0m\u001b[0mk\u001b[0m\u001b[0;34m,\u001b[0m\u001b[0mq\u001b[0m\u001b[0;34m)\u001b[0m\u001b[0;34m\u001b[0m\u001b[0m\n",
      "\u001b[0;31mValueError\u001b[0m: not enough values to unpack (expected 4, got 3)"
     ]
    }
   ],
   "source": [
    "# tuple  元组的嵌套\n",
    "ta = ((10, 20, 30), (\"1\", \"love\", \"wangxiaojing\"), (100, 200, 2300))\n",
    "# 1.双层循环\n",
    "for i in ta:\n",
    "    print(i)\n",
    "    for j in i:\n",
    "        print(j)\n",
    "print(\"*\" * 30)\n",
    "# 2.单层循环访问\n",
    "for i,j,k in ta:   #i j k 必须一一对应元组中元素\n",
    "    print(i, j, k)\n",
    "\n",
    "    \n",
    "for i,j,k,q in ta: #报错\n",
    "    print(i,j,k,q)"
   ]
  },
  {
   "cell_type": "code",
   "execution_count": 41,
   "metadata": {},
   "outputs": [
    {
     "name": "stdout",
     "output_type": "stream",
     "text": [
      "3\n",
      "55\n"
     ]
    },
    {
     "ename": "TypeError",
     "evalue": "'>' not supported between instances of 'str' and 'int'",
     "output_type": "error",
     "traceback": [
      "\u001b[0;31m---------------------------------------------------------------------------\u001b[0m",
      "\u001b[0;31mTypeError\u001b[0m                                 Traceback (most recent call last)",
      "\u001b[0;32m<ipython-input-41-c9c1eca722e7>\u001b[0m in \u001b[0;36m<module>\u001b[0;34m\u001b[0m\n\u001b[1;32m     10\u001b[0m \u001b[0;34m\u001b[0m\u001b[0m\n\u001b[1;32m     11\u001b[0m \u001b[0mtc\u001b[0m \u001b[0;34m=\u001b[0m \u001b[0;34m(\u001b[0m\u001b[0;36m10\u001b[0m\u001b[0;34m,\u001b[0m \u001b[0;36m30\u001b[0m\u001b[0;34m,\u001b[0m \u001b[0;36m44\u001b[0m\u001b[0;34m,\u001b[0m \u001b[0;34m\"hello\"\u001b[0m\u001b[0;34m)\u001b[0m\u001b[0;34m\u001b[0m\u001b[0m\n\u001b[0;32m---> 12\u001b[0;31m \u001b[0mprint\u001b[0m\u001b[0;34m(\u001b[0m\u001b[0mmax\u001b[0m\u001b[0;34m(\u001b[0m\u001b[0mtc\u001b[0m\u001b[0;34m)\u001b[0m\u001b[0;34m)\u001b[0m\u001b[0;34m\u001b[0m\u001b[0m\n\u001b[0m",
      "\u001b[0;31mTypeError\u001b[0m: '>' not supported between instances of 'str' and 'int'"
     ]
    }
   ],
   "source": [
    "# 常用元组函数\n",
    "\n",
    "ta = ((10, 20, 30), (\"1\", \"love\", \"wangxiaojing\"), (100, 200, 2300))\n",
    "# len ： 长度\n",
    "print(len(ta))\n",
    "\n",
    "# max/min : 最大值和最小值\n",
    "tb = (10, 20, 30, 44, 55, 50)\n",
    "print(max(tb))\n",
    "\n",
    "tc = (10, 30, 44, \"hello\")\n",
    "print(max(tc)) #报错  同类型才能比较\n"
   ]
  },
  {
   "cell_type": "code",
   "execution_count": 46,
   "metadata": {},
   "outputs": [
    {
     "name": "stdout",
     "output_type": "stream",
     "text": [
      "5\n",
      "3\n",
      "1\n"
     ]
    }
   ],
   "source": [
    "# count 对某一元素计数\n",
    "ta = 1,2,3,4,5,6,1,1,21,1,1,2,2\n",
    "print(ta.count(1))\n",
    "print(ta.count(2))\n",
    "\n",
    "# index 某一元素所在位置\n",
    "print(ta.index(2))"
   ]
  },
  {
   "cell_type": "code",
   "execution_count": 48,
   "metadata": {},
   "outputs": [
    {
     "name": "stdout",
     "output_type": "stream",
     "text": [
      "100 wang xiao jing\n",
      "wang xiao jing 100\n"
     ]
    }
   ],
   "source": [
    "# tuple 的特殊用法\n",
    "a = 100\n",
    "b = \"wang xiao jing\"\n",
    "print(a,b)\n",
    "\n",
    "a,b = b,a\n",
    "print(a, b)"
   ]
  },
  {
   "cell_type": "code",
   "execution_count": null,
   "metadata": {},
   "outputs": [],
   "source": []
  }
 ],
 "metadata": {
  "kernelspec": {
   "display_name": "Python 3",
   "language": "python",
   "name": "python3"
  },
  "language_info": {
   "codemirror_mode": {
    "name": "ipython",
    "version": 3
   },
   "file_extension": ".py",
   "mimetype": "text/x-python",
   "name": "python",
   "nbconvert_exporter": "python",
   "pygments_lexer": "ipython3",
   "version": "3.6.4"
  }
 },
 "nbformat": 4,
 "nbformat_minor": 2
}
