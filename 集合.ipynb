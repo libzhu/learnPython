{
 "cells": [
  {
   "cell_type": "markdown",
   "metadata": {},
   "source": [
    "# 集合\n",
    "- 跟数学中的集合概念一致\n",
    "- 内容无序，内容不重复"
   ]
  },
  {
   "cell_type": "code",
   "execution_count": 17,
   "metadata": {},
   "outputs": [
    {
     "name": "stdout",
     "output_type": "stream",
     "text": [
      "set()\n",
      "<class 'set'>\n",
      "{1, 2, 3, 4, 5, 6}\n",
      "{32, 1, 4, 5, 8, 12, 222}\n"
     ]
    }
   ],
   "source": [
    "# 集合的定义\n",
    "# 1.通过set关键字\n",
    "sa = set()\n",
    "print(sa)\n",
    "print(type(sa))\n",
    "\n",
    "li = [1, 2, 3, 5, 6, 3, 5, 4]\n",
    "sb = set(li)\n",
    "print(sb)\n",
    "\n",
    "# 使用大括号定义集合\n",
    "sc = {1, 222, 12, 32, 4, 5, 8, 5, 5, 5}\n",
    "print(sc)"
   ]
  },
  {
   "cell_type": "code",
   "execution_count": 8,
   "metadata": {},
   "outputs": [
    {
     "name": "stdout",
     "output_type": "stream",
     "text": [
      "22222\n"
     ]
    }
   ],
   "source": [
    "# in 成员操作\n",
    "if 2 in sc:\n",
    "    print(\"22222\")"
   ]
  },
  {
   "cell_type": "code",
   "execution_count": 22,
   "metadata": {},
   "outputs": [
    {
     "name": "stdout",
     "output_type": "stream",
     "text": [
      "32\n",
      "1\n",
      "4\n",
      "5\n",
      "8\n",
      "12\n",
      "222\n",
      "********************\n",
      "4 5 6\n",
      "1 2 4\n",
      "I Love You\n"
     ]
    }
   ],
   "source": [
    "# 集合遍历\n",
    "for i in sc:\n",
    "    print(i)\n",
    "print(\"*\" * 20)\n",
    "# 使用tuple 元组遍历\n",
    "# 元素一一对应\n",
    "sa = {(1,2,4), (4,5,6), (\"I\", \"Love\", \"You\")}\n",
    "for i,j,k in sa:\n",
    "    print(i,j,k)"
   ]
  },
  {
   "cell_type": "code",
   "execution_count": 1,
   "metadata": {},
   "outputs": [
    {
     "name": "stdout",
     "output_type": "stream",
     "text": [
      "{1, 2, 3, 4, 5, 6, 7, 8, 9, 10}\n",
      "{2, 4, 6, 8, 10}\n",
      "{64, 100, 4, 36, 16}\n",
      "{1, 2, 3, 4, 5, 6, 7, 8, 9, 10, 12, 14, 15, 16, 18, 20, 21, 24, 25, 27, 28, 30, 32, 35, 36, 40, 42, 45, 48, 49, 50, 54, 56, 60, 63, 64, 70, 72, 80, 81, 90, 100}\n"
     ]
    }
   ],
   "source": [
    "# 集合的生成式\n",
    "sa = {1,2,3,4,5,6,7,8,9,10}\n",
    "# 利用sa生成一个sb\n",
    "sb = {i for i in sa}\n",
    "print(sb)\n",
    "\n",
    "sc = {i for i in sa if i % 2 == 0}\n",
    "print(sc)\n",
    "\n",
    "# 双重for循环\n",
    "# 把sa中的每一个元素的平方生成一个新的集合\n",
    "sd = {i**2 for i in sa if i % 2 == 0}\n",
    "print(sd)\n",
    "\n",
    "sf = {m*n for m in sa for n in sa}\n",
    "print(sf)"
   ]
  },
  {
   "cell_type": "code",
   "execution_count": 3,
   "metadata": {},
   "outputs": [
    {
     "name": "stdout",
     "output_type": "stream",
     "text": [
      "42\n",
      "100\n",
      "1\n"
     ]
    }
   ],
   "source": [
    "# 集合的内置函数\n",
    "# len:长度\n",
    "print(len(sf))\n",
    "# max/min 最大值/最小值\n",
    "print(max(sf))\n",
    "print(min(sf))\n",
    "\n"
   ]
  },
  {
   "cell_type": "code",
   "execution_count": 6,
   "metadata": {},
   "outputs": [
    {
     "name": "stdout",
     "output_type": "stream",
     "text": [
      "{1, 2, 3, 4, 5, 6}\n",
      "None\n",
      "{1, 2, 3, 4, 5, 6, 7}\n"
     ]
    }
   ],
   "source": [
    "# add: 向集合中添加新的元素\n",
    "sa = {1, 2, 3, 4, 5, 6 , 5, 4, 3, 2, 1}\n",
    "print(sa)\n",
    "\n",
    "sa.add(7)\n",
    "print(sa)"
   ]
  },
  {
   "cell_type": "code",
   "execution_count": 7,
   "metadata": {},
   "outputs": [
    {
     "name": "stdout",
     "output_type": "stream",
     "text": [
      "set()\n"
     ]
    }
   ],
   "source": [
    "# clear: 清空\n",
    "sa.clear()\n",
    "print(sa)"
   ]
  },
  {
   "cell_type": "code",
   "execution_count": 14,
   "metadata": {},
   "outputs": [
    {
     "name": "stdout",
     "output_type": "stream",
     "text": [
      "{1, 2, 3, 4, 5, 6}\n",
      "{1, 2, 3, 4, 5}\n",
      "{1, 2, 3, 4}\n",
      "{1, 2, 3, 4}\n"
     ]
    }
   ],
   "source": [
    "# 删除\n",
    "# remove 和 discard 的区别\n",
    "sa = {1, 2, 3, 4, 5, 6, 5, 4, 3, 2, 1}\n",
    "print(sa)\n",
    "# remove 删除的值不在集合中 报错 \n",
    "# sa.remove(7)\n",
    "sa.remove(6)\n",
    "print(sa)\n",
    "\n",
    "# discard 不存在上述问题\n",
    "sa.discard(5)\n",
    "print(sa)\n",
    "\n",
    "sa.discard(7)\n",
    "print(sa)"
   ]
  },
  {
   "cell_type": "code",
   "execution_count": 17,
   "metadata": {},
   "outputs": [
    {
     "name": "stdout",
     "output_type": "stream",
     "text": [
      "{2, 3, 4, 5, 7, 8}\n"
     ]
    }
   ],
   "source": [
    "# pop 弹出集合的一个内容\n",
    "# 删除的是随机的，没有规律\n",
    "sa = {1, 2, 3, 4, 5, 7, 8}\n",
    "sa.pop()\n",
    "print(sa)"
   ]
  },
  {
   "cell_type": "code",
   "execution_count": 26,
   "metadata": {},
   "outputs": [
    {
     "name": "stdout",
     "output_type": "stream",
     "text": [
      "{1, 2, 3, 5, 6}\n",
      "********************\n",
      "{4}\n",
      "********************\n",
      "{4}\n",
      "********************\n",
      "{8, 9, 7}\n",
      "********************\n",
      "{8, 9, 7}\n",
      "{1, 2, 3, 4, 5, 6, 7, 8, 9}\n"
     ]
    },
    {
     "ename": "TypeError",
     "evalue": "unsupported operand type(s) for +: 'set' and 'set'",
     "output_type": "error",
     "traceback": [
      "\u001b[0;31m---------------------------------------------------------------------------\u001b[0m",
      "\u001b[0;31mTypeError\u001b[0m                                 Traceback (most recent call last)",
      "\u001b[0;32m<ipython-input-26-68fd4ec85858>\u001b[0m in \u001b[0;36m<module>\u001b[0;34m\u001b[0m\n\u001b[1;32m     27\u001b[0m \u001b[0mprint\u001b[0m\u001b[0;34m(\u001b[0m\u001b[0msc\u001b[0m\u001b[0;34m)\u001b[0m\u001b[0;34m\u001b[0m\u001b[0m\n\u001b[1;32m     28\u001b[0m \u001b[0;34m\u001b[0m\u001b[0m\n\u001b[0;32m---> 29\u001b[0;31m \u001b[0msd\u001b[0m \u001b[0;34m=\u001b[0m \u001b[0msa\u001b[0m \u001b[0;34m+\u001b[0m \u001b[0msb\u001b[0m\u001b[0;34m\u001b[0m\u001b[0m\n\u001b[0m\u001b[1;32m     30\u001b[0m \u001b[0mprint\u001b[0m\u001b[0;34m(\u001b[0m\u001b[0msd\u001b[0m\u001b[0;34m)\u001b[0m\u001b[0;34m\u001b[0m\u001b[0m\n",
      "\u001b[0;31mTypeError\u001b[0m: unsupported operand type(s) for +: 'set' and 'set'"
     ]
    }
   ],
   "source": [
    "# 集合的数学操作\n",
    "sa = {1, 2, 3, 4, 5, 6}\n",
    "sb = {1, 2, 3, 5, 6, 7, 8, 9}\n",
    "# intersection ：交集\n",
    "sc = sa.intersection(sb)\n",
    "print(sc)\n",
    "print(\"*\" * 20)\n",
    "\n",
    "# difference：差集 \n",
    "sc = sa.difference(sb)\n",
    "print(sc)\n",
    "print(\"*\" * 20)\n",
    "\n",
    "sc = sa - sb #另外一种表示\n",
    "print(sc)\n",
    "print(\"*\" * 20)\n",
    "\n",
    "sc = sb.difference(sa)\n",
    "print(sc)\n",
    "print(\"*\" * 20)\n",
    "sc = sb - sa # 另外一种表示\n",
    "print(sc)\n",
    "\n",
    "\n",
    "# union: 并集\n",
    "sc = sa.union(sb)\n",
    "print(sc)\n",
    "\n",
    "# 集合没有 + 操作 报错\n",
    "sd = sa + sb\n",
    "print(sd)"
   ]
  },
  {
   "cell_type": "markdown",
   "metadata": {},
   "source": [
    "# frozenset 冰冻集合\n",
    "- 不允许修改的集合\n"
   ]
  },
  {
   "cell_type": "code",
   "execution_count": 27,
   "metadata": {},
   "outputs": [
    {
     "name": "stdout",
     "output_type": "stream",
     "text": [
      "{1, 2, 3, 4, 5}\n",
      "frozenset({1, 2, 3, 4, 5})\n"
     ]
    }
   ],
   "source": [
    "# frozenset\n",
    "sa = {1, 2, 3, 4, 5}\n",
    "print(sa)\n",
    "sb = frozenset(sa)\n",
    "print(sb)"
   ]
  },
  {
   "cell_type": "code",
   "execution_count": null,
   "metadata": {},
   "outputs": [],
   "source": []
  }
 ],
 "metadata": {
  "kernelspec": {
   "display_name": "Python 3",
   "language": "python",
   "name": "python3"
  },
  "language_info": {
   "codemirror_mode": {
    "name": "ipython",
    "version": 3
   },
   "file_extension": ".py",
   "mimetype": "text/x-python",
   "name": "python",
   "nbconvert_exporter": "python",
   "pygments_lexer": "ipython3",
   "version": "3.6.4"
  }
 },
 "nbformat": 4,
 "nbformat_minor": 2
}
