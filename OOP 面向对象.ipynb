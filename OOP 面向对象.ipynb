{
 "cells": [
  {
   "cell_type": "markdown",
   "metadata": {},
   "source": [
    "# OOP\n",
    "- 以模块化问题解决工程问题\n",
    "- 面向过程 VS 面向对象\n",
    "- 使用class 关键字\n",
    "    - 遵循大驼峰\n",
    "    - 第一个字母大写"
   ]
  },
  {
   "cell_type": "code",
   "execution_count": 2,
   "metadata": {},
   "outputs": [],
   "source": [
    "# 定义一个学生类\n",
    "class Student():\n",
    "    # 此处定义一个空类\n",
    "    # pass 是关键字，是占位用的 无意义\n",
    "    pass"
   ]
  },
  {
   "cell_type": "code",
   "execution_count": 4,
   "metadata": {},
   "outputs": [
    {
     "name": "stdout",
     "output_type": "stream",
     "text": [
      "<class '__main__.Student'>\n"
     ]
    }
   ],
   "source": [
    "xiaobai = Student()\n",
    "print(type(xiaobai))"
   ]
  },
  {
   "cell_type": "code",
   "execution_count": 9,
   "metadata": {},
   "outputs": [
    {
     "name": "stdout",
     "output_type": "stream",
     "text": [
      "NoOne\n",
      "18\n",
      "Python\n",
      "show me money\n"
     ]
    }
   ],
   "source": [
    "class PythonStudent():\n",
    "    name = \"NoOne\"\n",
    "    age = 18\n",
    "    course = \"Python\"\n",
    "    \"\"\"\n",
    "    定义类中的函数\n",
    "    一般需要有self关键字\n",
    "    其余和普通函数基本相同\n",
    "        \n",
    "    \"\"\"\n",
    "    def giveMeMoney(self):\n",
    "        print(\"show me money\")\n",
    "        return None\n",
    "    \n",
    "liudana = PythonStudent()\n",
    "print(liudana.name)\n",
    "print(liudana.age)\n",
    "print(liudana.course)\n",
    "liudana.giveMeMoney()"
   ]
  },
  {
   "cell_type": "markdown",
   "metadata": {},
   "source": [
    "# 类的属性\n"
   ]
  },
  {
   "cell_type": "code",
   "execution_count": 15,
   "metadata": {},
   "outputs": [],
   "source": [
    "# 类的例子\n",
    "class Student():\n",
    "    # name, age 是类的变量\n",
    "    # 不需要前缀\n",
    "    name = \"天逸\"\n",
    "    age = 19\n",
    "    \n",
    "    def sayHi(self):\n",
    "        print(\"我爱生活\")\n",
    "        return None\n",
    "    \n",
    "    def sayHai(meme):\n",
    "        print(\"我爱北京天安门\")"
   ]
  },
  {
   "cell_type": "code",
   "execution_count": 12,
   "metadata": {},
   "outputs": [
    {
     "name": "stdout",
     "output_type": "stream",
     "text": [
      "<__main__.Student object at 0x10e9ba7b8>\n"
     ]
    }
   ],
   "source": [
    "# 实例化\n",
    "xiaoNa = Student()\n",
    "print(xiaoNa)\n",
    "\n"
   ]
  },
  {
   "cell_type": "markdown",
   "metadata": {},
   "source": [
    "# self\n",
    "- self 可以用别的名称代替\n",
    "- self不是关键字\n",
    "- 作用是指本身"
   ]
  },
  {
   "cell_type": "code",
   "execution_count": 16,
   "metadata": {},
   "outputs": [
    {
     "name": "stdout",
     "output_type": "stream",
     "text": [
      "我爱生活\n",
      "我爱北京天安门\n"
     ]
    }
   ],
   "source": [
    "# self举例\n",
    "# 实例函数调用\n",
    "yaoyao = Student()\n",
    "# yaoyao 调用sayHi没有输入参数\n",
    "# 因为默认实例作为第一个参数\n",
    "yaoyao.sayHi() #参数 self 就是 yaoyao自己\n",
    "\n",
    "yaoyao.sayHai() #参数 meme 就是 yaoyao 自己"
   ]
  },
  {
   "cell_type": "markdown",
   "metadata": {},
   "source": [
    "# 类的变量作用域的问题\n",
    "- 类变量：属于类自己的变量\n",
    "- 实例变量：属于实例的变量\n",
    "- 访问实例的属性，如果没有定义属性，则自动访问累的属性，如果类也没有定义， 报错"
   ]
  },
  {
   "cell_type": "code",
   "execution_count": 26,
   "metadata": {},
   "outputs": [
    {
     "name": "stdout",
     "output_type": "stream",
     "text": [
      "小明 19\n",
      "我的的姓名：小赵, 年龄：20\n",
      "小赵 20\n",
      "姓名：小明, 年龄：19\n"
     ]
    },
    {
     "ename": "AttributeError",
     "evalue": "'Student2' object has no attribute 'height'",
     "output_type": "error",
     "traceback": [
      "\u001b[0;31m---------------------------------------------------------------------------\u001b[0m",
      "\u001b[0;31mAttributeError\u001b[0m                            Traceback (most recent call last)",
      "\u001b[0;32m<ipython-input-26-3e5fb3777303>\u001b[0m in \u001b[0;36m<module>\u001b[0;34m\u001b[0m\n\u001b[1;32m     19\u001b[0m \u001b[0;31m# 访问实例的属性，如果没有定义属性，则自动访问累的属性，如果类也没有定义， 报错\u001b[0m\u001b[0;34m\u001b[0m\u001b[0;34m\u001b[0m\u001b[0m\n\u001b[1;32m     20\u001b[0m \u001b[0;34m\u001b[0m\u001b[0m\n\u001b[0;32m---> 21\u001b[0;31m \u001b[0mprint\u001b[0m\u001b[0;34m(\u001b[0m\u001b[0mxiaozhao\u001b[0m\u001b[0;34m.\u001b[0m\u001b[0mheight\u001b[0m\u001b[0;34m)\u001b[0m\u001b[0;34m\u001b[0m\u001b[0m\n\u001b[0m",
      "\u001b[0;31mAttributeError\u001b[0m: 'Student2' object has no attribute 'height'"
     ]
    }
   ],
   "source": [
    "class Student2():\n",
    "    name = \"小明\"\n",
    "    age = 19\n",
    "    \n",
    "    def sayHello(self, name, age):\n",
    "        self.name = name\n",
    "        self.age = age\n",
    "        print(\"我的的姓名：{}, 年龄：{}\".format(self.name, self.age))\n",
    "        return None\n",
    "xiaozhu = Student2()\n",
    "print(xiaozhu.name, xiaozhu.age)\n",
    "\n",
    "xiaozhao = Student2()\n",
    "xiaozhao.sayHello(\"小赵\", 20)\n",
    "print(xiaozhao.name, xiaozhao.age)\n",
    "\n",
    "print(\"姓名：{0}, 年龄：{1}\".format(Student2.name, Student2.age))\n",
    "\n",
    "# 访问实例的属性，如果没有定义属性，则自动访问累的属性，如果类也没有定义， 报错\n",
    "print(xiaozhao.height)"
   ]
  },
  {
   "cell_type": "markdown",
   "metadata": {},
   "source": [
    "# 访问类的属性\n",
    "- 在类里面如果强制访问类的属性， 则需要使用__class__ (注意前后两个下划线)\n",
    "- 类方法：定义类的方法的时候， 没有self参数\n"
   ]
  },
  {
   "cell_type": "code",
   "execution_count": 5,
   "metadata": {},
   "outputs": [
    {
     "name": "stdout",
     "output_type": "stream",
     "text": [
      "hello! xiaoming， my age is 19 !\n",
      "help me！, my name is xiaoming, my age is 19 !\n"
     ]
    }
   ],
   "source": [
    "class Person():\n",
    "    name = \"xiaoming\"\n",
    "    age = 19\n",
    "    \n",
    "    # 实例方法\n",
    "    def sayHello(self):\n",
    "        print(\"hello! {}， my age is {} !\".format(self.name, self.age))\n",
    "        return None\n",
    "    \n",
    "    # 类方法\n",
    "    def saySos():\n",
    "        # 类方法中 不允许访问实例的任何类容\n",
    "        # 如果访问类的内容， 注意可以使用两种方法 用类名访问或__class__\n",
    "        print(\"help me！, my name is {}, my age is {} !\".format(Person.name, __class__.age))\n",
    "        return None\n",
    "    \n",
    "p = Person()\n",
    "# 调用实例方法\n",
    "p.sayHello()\n",
    "\n",
    "# 调用类方法 直接用类名调用\n",
    "Person.saySos()"
   ]
  },
  {
   "cell_type": "markdown",
   "metadata": {},
   "source": [
    "# 类的实例化(构造函数)\n",
    "- 类在实例化的时候，执行一些基础的初始化的工作\n",
    "- 使用特殊的名称和写法\n",
    "- 在实例化的时候自动默认执行\n",
    "    - 要求 第一个参数必须有， 一般推荐self\n",
    "  "
   ]
  },
  {
   "cell_type": "code",
   "execution_count": 6,
   "metadata": {},
   "outputs": [
    {
     "name": "stdout",
     "output_type": "stream",
     "text": [
      "我是构造函数\n"
     ]
    }
   ],
   "source": [
    "class Student3():\n",
    "    name = \"NoName\"\n",
    "    age = 0\n",
    "\n",
    "    # 构造函数名称固定， 写法相对固定\n",
    "    def __init__(self):\n",
    "        print(\"我是构造函数\")\n",
    "    \n",
    "s = Student3()"
   ]
  },
  {
   "cell_type": "markdown",
   "metadata": {},
   "source": [
    "# 面向对象的三大特征\n",
    "- 继承\n",
    "- 封装\n",
    "- 多态\n",
    "\n",
    "## 继承\n",
    "- 子类可以使用父类定义的类容或方法等\n",
    "- 继承的实现\n",
    "    - 父类，基类、被继承的类 Base Class、 Super Class\n",
    "    - 子类：有继承行为的类\n",
    "    \n",
    "    - 所有的类必须有一个父类\n",
    "        - 如果没有，则默认是object 的子类\n",
    "        - 子类可以多个父类\n",
    "        "
   ]
  },
  {
   "cell_type": "code",
   "execution_count": 7,
   "metadata": {},
   "outputs": [],
   "source": [
    "# 默认继承object \n",
    "class Person():\n",
    "    pass\n",
    "\n",
    "class Person2(object):\n",
    "    pass"
   ]
  },
  {
   "cell_type": "code",
   "execution_count": 14,
   "metadata": {},
   "outputs": [
    {
     "name": "stdout",
     "output_type": "stream",
     "text": [
      "老师的姓名：NoName, 年龄：0\n"
     ]
    }
   ],
   "source": [
    "class Person():\n",
    "    name = \"NoName\"\n",
    "    age = 0\n",
    "    \n",
    "# 父类写在子类定义的括号里\n",
    "class Teacher(Person):\n",
    "    pass\n",
    "\n",
    "t = Teacher()\n",
    "print(\"老师的姓名：{}, 年龄：{}\".format(t.name, t.age))"
   ]
  },
  {
   "cell_type": "code",
   "execution_count": 16,
   "metadata": {},
   "outputs": [
    {
     "name": "stdout",
     "output_type": "stream",
     "text": [
      "飞呀飞\n",
      "NoName\n"
     ]
    }
   ],
   "source": [
    "class Bird():\n",
    "    fly = \"Yes, we can\"\n",
    "    def flying(self):\n",
    "        print(\"飞呀飞\")\n",
    "    \n",
    "class BirdMan(Bird, Person):\n",
    "    pass\n",
    "\n",
    "bm = BirdMan()\n",
    "bm.flying()\n",
    "print(bm.name)"
   ]
  },
  {
   "cell_type": "markdown",
   "metadata": {},
   "source": [
    "# issubclass 检测是否是子类\n",
    "- 可以检测两个类的父子关系\n"
   ]
  },
  {
   "cell_type": "code",
   "execution_count": 20,
   "metadata": {},
   "outputs": [
    {
     "name": "stdout",
     "output_type": "stream",
     "text": [
      "False\n",
      "True\n",
      "False\n"
     ]
    }
   ],
   "source": [
    "print(issubclass(BirdMan, Person))\n",
    "print(issubclass(BirdMan, Bird))\n",
    "print(issubclass(BirdMan, Teacher))"
   ]
  },
  {
   "cell_type": "markdown",
   "metadata": {},
   "source": [
    "# 构造函数的继承\n",
    "- 构造函数是默认继承，子类如果没有构造函数， 则自动调用父类的构造函数\n",
    "- 一旦子类定义了构造函数，则不再自动调用父类的构造函数\n"
   ]
  },
  {
   "cell_type": "code",
   "execution_count": 21,
   "metadata": {},
   "outputs": [
    {
     "name": "stdout",
     "output_type": "stream",
     "text": [
      "name:小明, age:20\n"
     ]
    }
   ],
   "source": [
    "class Person():\n",
    "    def __init__(self, name, age):\n",
    "        print(\"name:{}, age:{}\".format(name, age))\n",
    "    \n",
    "class Teacher(Person):\n",
    "    pass\n",
    "\n",
    "t = Teacher(\"小明\", 20)"
   ]
  },
  {
   "cell_type": "code",
   "execution_count": null,
   "metadata": {},
   "outputs": [],
   "source": []
  }
 ],
 "metadata": {
  "kernelspec": {
   "display_name": "Python 3",
   "language": "python",
   "name": "python3"
  },
  "language_info": {
   "codemirror_mode": {
    "name": "ipython",
    "version": 3
   },
   "file_extension": ".py",
   "mimetype": "text/x-python",
   "name": "python",
   "nbconvert_exporter": "python",
   "pygments_lexer": "ipython3",
   "version": "3.6.4"
  }
 },
 "nbformat": 4,
 "nbformat_minor": 2
}
